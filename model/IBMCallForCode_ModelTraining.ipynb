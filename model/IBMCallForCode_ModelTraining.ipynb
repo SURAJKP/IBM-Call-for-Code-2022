{
 "cells": [
  {
   "cell_type": "code",
   "execution_count": null,
   "id": "dc438ca6",
   "metadata": {},
   "outputs": [],
   "source": [
    "import numpy as np # linear algebra\n",
    "import pandas as pd # data processing, CSV file I/O (e.g. pd.read_csv) \n",
    "import matplotlib\n",
    "import matplotlib.pyplot as plt\n",
    "import os\n",
    "import cv2\n",
    "import PIL\n",
    "import seaborn as sns\n",
    "from sklearn.utils import shuffle\n",
    "from sklearn.metrics import confusion_matrix, classification_report\n",
    "from sklearn import preprocessing\n",
    "from sklearn.model_selection import train_test_split\n",
    "import tensorflow as tf\n",
    "from tensorflow import keras\n",
    "from tensorflow.keras import layers, datasets, models\n",
    "from tensorflow.keras.models import Sequential\n",
    "from tensorflow.keras.layers import Dropout, Dense, Flatten, BatchNormalization, LeakyReLU, GlobalAveragePooling2D, Conv2D, MaxPool2D, MaxPooling2D\n",
    "from tensorflow.keras.callbacks import EarlyStopping\n",
    "from keras.applications.xception import Xception"
   ]
  },
  {
   "cell_type": "code",
   "execution_count": null,
   "id": "b178061b",
   "metadata": {},
   "outputs": [],
   "source": [
    "image_array = []\n",
    "label_array = []\n",
    "image_folder = r\"C:\\Users\\DK524UF\\OneDrive - EY\\Documents\\EY Ripples\\Forest Carbon Project\\animals_for_upload\""
   ]
  },
  {
   "cell_type": "code",
   "execution_count": null,
   "id": "f952d7a3",
   "metadata": {},
   "outputs": [],
   "source": [
    "for animal in os.listdir(image_folder):\n",
    "    for i in range(len(os.listdir(image_folder + '/' + animal))):\n",
    "        img = cv2.imread(image_folder + '/' + animal + '/' + os.listdir(image_folder + '/' + animal)[i])\n",
    "        resized_img = cv2.resize(img,(224,224))\n",
    "        resized_img = resized_img / 255.0\n",
    "        image_array.append(resized_img)\n",
    "        label_array.append(animal)\n",
    "\n",
    "images = np.array(image_array,dtype = 'float32')"
   ]
  },
  {
   "cell_type": "code",
   "execution_count": null,
   "id": "99b5b296",
   "metadata": {},
   "outputs": [],
   "source": [
    "le = preprocessing.LabelEncoder()\n",
    "le.fit(label_array)\n",
    "class_names = le.classes_\n",
    "labels = le.transform(label_array)\n",
    "\n",
    "labels = np.array(labels, dtype = 'uint8')\n",
    "labels = np.resize(labels, (len(labels),1))"
   ]
  },
  {
   "cell_type": "code",
   "execution_count": null,
   "id": "72942b1b",
   "metadata": {},
   "outputs": [],
   "source": [
    "import joblib\n",
    "\n",
    "joblib.dump(le, 'label_encoder.joblib')\n",
    "label_encoder = joblib.load('label_encoder.joblib')"
   ]
  },
  {
   "cell_type": "code",
   "execution_count": null,
   "id": "26896dbc",
   "metadata": {},
   "outputs": [],
   "source": [
    "train_images, test_images, train_labels, test_labels = train_test_split(images, labels, test_size=0.30, stratify = labels)"
   ]
  },
  {
   "cell_type": "code",
   "execution_count": null,
   "id": "12ae931e",
   "metadata": {},
   "outputs": [],
   "source": [
    "xception_model = Sequential()\n",
    "\n",
    "xception_base_model = Xception(include_top = False, weights = \"imagenet\", input_shape = (224, 224, 3))\n",
    "print(f'Number of layers in Xception : {len(xception_base_model.layers)}')\n",
    "\n",
    "for layer in xception_base_model.layers[:]:\n",
    "    layer.trainable = False\n",
    "\n",
    "for layer in xception_base_model.layers[90:]:\n",
    "    layer.trainable = True\n",
    "\n",
    "xception_model.add(xception_base_model)\n",
    "xception_model.add(GlobalAveragePooling2D())\n",
    "xception_model.add(Dense(units = 90, activation = 'softmax'))\n",
    "xception_model.summary()\n",
    "\n",
    "early_stopping = EarlyStopping( monitor = 'val_accuracy', mode = 'max', min_delta = 1e-5, patience = 20, restore_best_weights = True, verbose = 0)\n",
    "\n",
    "xception_model.compile(optimizer = keras.optimizers.RMSprop(learning_rate = 0.0001) , loss = 'sparse_categorical_crossentropy' , metrics = ['accuracy'])\n",
    "xception = xception_model.fit(train_images, train_labels, batch_size = 32, epochs = 5, callbacks = [early_stopping], validation_split = 0.3)"
   ]
  },
  {
   "cell_type": "code",
   "execution_count": null,
   "id": "c80e7816",
   "metadata": {},
   "outputs": [],
   "source": [
    "xception_predictions = xception_model.predict(test_images)\n",
    "xception_predictions = np.argmax(xception_predictions,axis = 1)"
   ]
  },
  {
   "cell_type": "code",
   "execution_count": null,
   "id": "f6b2ebc2",
   "metadata": {},
   "outputs": [],
   "source": [
    "randomImage = np.random.randint(5,np.shape(test_images)[0])\n",
    "\n",
    "plt.imshow(test_images[randomImage])\n",
    "plt.title(\"Xception Model's Predicted Animal : \" + str(le.inverse_transform([xception_predictions[randomImage]])))\n",
    "plt.show()"
   ]
  },
  {
   "cell_type": "code",
   "execution_count": null,
   "id": "449033af",
   "metadata": {},
   "outputs": [],
   "source": [
    "plt.figure(figsize = (30,10))\n",
    "\n",
    "plt.subplot(2,2,1)\n",
    "i_train_acc = xception.history['accuracy']\n",
    "i_val_acc = xception.history['val_accuracy']\n",
    "i_epoch = [i for i in range(len(i_val_acc))]\n",
    "plt.plot(i_epoch , i_train_acc , 'go-' , label = 'Training Accuracy')\n",
    "plt.plot(i_epoch, i_val_acc , 'ro-' , label = 'Validation Accuracy')\n",
    "plt.title('Training & Validation Accuracy for Xception Net')\n",
    "plt.legend()\n",
    "plt.xlabel(\"Epochs\")\n",
    "plt.ylabel(\"Accuracy\")"
   ]
  },
  {
   "cell_type": "code",
   "execution_count": null,
   "id": "f9ca6ce8",
   "metadata": {},
   "outputs": [],
   "source": [
    "xception_model.save(r\"C:\\Users\\DK524UF\\OneDrive - EY\\Documents\\EY Ripples\\Forest Carbon Project\\model\")"
   ]
  },
  {
   "cell_type": "code",
   "execution_count": null,
   "id": "ba04b166",
   "metadata": {},
   "outputs": [],
   "source": [
    "model = keras.models.load_model(r\"C:\\Users\\DK524UF\\OneDrive - EY\\Documents\\EY Ripples\\Forest Carbon Project\\model\")"
   ]
  }
 ],
 "metadata": {
  "kernelspec": {
   "display_name": "Python 3 (ipykernel)",
   "language": "python",
   "name": "python3"
  },
  "language_info": {
   "codemirror_mode": {
    "name": "ipython",
    "version": 3
   },
   "file_extension": ".py",
   "mimetype": "text/x-python",
   "name": "python",
   "nbconvert_exporter": "python",
   "pygments_lexer": "ipython3",
   "version": "3.9.7"
  }
 },
 "nbformat": 4,
 "nbformat_minor": 5
}
