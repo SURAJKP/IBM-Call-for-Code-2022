{
 "cells": [
  {
   "cell_type": "code",
   "execution_count": 2,
   "id": "9bea43e8",
   "metadata": {},
   "outputs": [
    {
     "name": "stdout",
     "output_type": "stream",
     "text": [
      "Defaulting to user installation because normal site-packages is not writeable\n",
      "\u001b[31mERROR: Could not find a version that satisfies the requirement cv2 (from versions: none)\u001b[0m\u001b[31m\n",
      "\u001b[0m\u001b[31mERROR: No matching distribution found for cv2\u001b[0m\u001b[31m\n",
      "\u001b[0mNote: you may need to restart the kernel to use updated packages.\n"
     ]
    }
   ],
   "source": [
    "# %pip install pandas\n",
    "# %pip install numpy\n",
    "# %pip install opencv-python\n",
    "# %pip install sklearn\n",
    "# %pip install tensorflow\n",
    "# %pip install joblib\n",
    "# %pip install os\n",
    "# %pip install opencv-python"
   ]
  },
  {
   "cell_type": "code",
   "execution_count": 3,
   "id": "eafc7421",
   "metadata": {},
   "outputs": [
    {
     "name": "stderr",
     "output_type": "stream",
     "text": [
      "2022-10-31 23:20:57.391819: I tensorflow/core/platform/cpu_feature_guard.cc:193] This TensorFlow binary is optimized with oneAPI Deep Neural Network Library (oneDNN) to use the following CPU instructions in performance-critical operations:  AVX2 FMA\n",
      "To enable them in other operations, rebuild TensorFlow with the appropriate compiler flags.\n",
      "2022-10-31 23:20:57.515466: W tensorflow/stream_executor/platform/default/dso_loader.cc:64] Could not load dynamic library 'libcudart.so.11.0'; dlerror: libcudart.so.11.0: cannot open shared object file: No such file or directory; LD_LIBRARY_PATH: /home/gerry/.local/lib/python3.10/site-packages/cv2/../../lib64:\n",
      "2022-10-31 23:20:57.515484: I tensorflow/stream_executor/cuda/cudart_stub.cc:29] Ignore above cudart dlerror if you do not have a GPU set up on your machine.\n",
      "2022-10-31 23:20:57.542865: E tensorflow/stream_executor/cuda/cuda_blas.cc:2981] Unable to register cuBLAS factory: Attempting to register factory for plugin cuBLAS when one has already been registered\n",
      "2022-10-31 23:20:58.110687: W tensorflow/stream_executor/platform/default/dso_loader.cc:64] Could not load dynamic library 'libnvinfer.so.7'; dlerror: libnvinfer.so.7: cannot open shared object file: No such file or directory; LD_LIBRARY_PATH: /home/gerry/.local/lib/python3.10/site-packages/cv2/../../lib64:\n",
      "2022-10-31 23:20:58.110804: W tensorflow/stream_executor/platform/default/dso_loader.cc:64] Could not load dynamic library 'libnvinfer_plugin.so.7'; dlerror: libnvinfer_plugin.so.7: cannot open shared object file: No such file or directory; LD_LIBRARY_PATH: /home/gerry/.local/lib/python3.10/site-packages/cv2/../../lib64:\n",
      "2022-10-31 23:20:58.110812: W tensorflow/compiler/tf2tensorrt/utils/py_utils.cc:38] TF-TRT Warning: Cannot dlopen some TensorRT libraries. If you would like to use Nvidia GPU with TensorRT, please make sure the missing libraries mentioned above are installed properly.\n"
     ]
    }
   ],
   "source": [
    "import numpy as np # linear algebra\n",
    "import pandas as pd # data processing, CSV file I/O (e.g. pd.read_csv) \n",
    "import matplotlib\n",
    "import matplotlib.pyplot as plt\n",
    "import os\n",
    "import cv2\n",
    "import PIL\n",
    "from sklearn.utils import shuffle\n",
    "from sklearn.metrics import confusion_matrix, classification_report\n",
    "from sklearn import preprocessing\n",
    "from sklearn.model_selection import train_test_split\n",
    "import tensorflow as tf\n",
    "from tensorflow import keras\n",
    "import joblib"
   ]
  },
  {
   "cell_type": "code",
   "execution_count": 9,
   "id": "717f5b5b",
   "metadata": {},
   "outputs": [],
   "source": [
    "#inputs to the script\n",
    "\n",
    "#Model Path\n",
    "model_dir_path=\"./model/\"\n",
    "\n",
    "\n",
    "all_regions_dir_path=\"../static/All_Regions/\"\n",
    "\n",
    "\n",
    "label_encoder_path=\"./label_encoder.joblib\""
   ]
  },
  {
   "cell_type": "code",
   "execution_count": 10,
   "id": "40d82bb5",
   "metadata": {},
   "outputs": [
    {
     "ename": "OpError",
     "evalue": "./model/variables/variables.data-00000-of-00001; No such file or directory",
     "output_type": "error",
     "traceback": [
      "\u001b[0;31m---------------------------------------------------------------------------\u001b[0m",
      "\u001b[0;31mOpError\u001b[0m                                   Traceback (most recent call last)",
      "Cell \u001b[0;32mIn [10], line 1\u001b[0m\n\u001b[0;32m----> 1\u001b[0m model\u001b[39m=\u001b[39m keras\u001b[39m.\u001b[39;49mmodels\u001b[39m.\u001b[39;49mload_model(model_dir_path)\n",
      "File \u001b[0;32m~/.local/lib/python3.10/site-packages/keras/utils/traceback_utils.py:70\u001b[0m, in \u001b[0;36mfilter_traceback.<locals>.error_handler\u001b[0;34m(*args, **kwargs)\u001b[0m\n\u001b[1;32m     67\u001b[0m     filtered_tb \u001b[39m=\u001b[39m _process_traceback_frames(e\u001b[39m.\u001b[39m__traceback__)\n\u001b[1;32m     68\u001b[0m     \u001b[39m# To get the full stack trace, call:\u001b[39;00m\n\u001b[1;32m     69\u001b[0m     \u001b[39m# `tf.debugging.disable_traceback_filtering()`\u001b[39;00m\n\u001b[0;32m---> 70\u001b[0m     \u001b[39mraise\u001b[39;00m e\u001b[39m.\u001b[39mwith_traceback(filtered_tb) \u001b[39mfrom\u001b[39;00m \u001b[39mNone\u001b[39m\n\u001b[1;32m     71\u001b[0m \u001b[39mfinally\u001b[39;00m:\n\u001b[1;32m     72\u001b[0m     \u001b[39mdel\u001b[39;00m filtered_tb\n",
      "File \u001b[0;32m~/.local/lib/python3.10/site-packages/tensorflow/python/training/py_checkpoint_reader.py:45\u001b[0m, in \u001b[0;36merror_translator\u001b[0;34m(e)\u001b[0m\n\u001b[1;32m     43\u001b[0m   \u001b[39mraise\u001b[39;00m errors_impl\u001b[39m.\u001b[39mInternalError(\u001b[39mNone\u001b[39;00m, \u001b[39mNone\u001b[39;00m, error_message)\n\u001b[1;32m     44\u001b[0m \u001b[39melse\u001b[39;00m:\n\u001b[0;32m---> 45\u001b[0m   \u001b[39mraise\u001b[39;00m errors_impl\u001b[39m.\u001b[39mOpError(\u001b[39mNone\u001b[39;00m, \u001b[39mNone\u001b[39;00m, error_message, errors_impl\u001b[39m.\u001b[39mUNKNOWN)\n",
      "\u001b[0;31mOpError\u001b[0m: ./model/variables/variables.data-00000-of-00001; No such file or directory"
     ]
    }
   ],
   "source": [
    "model= keras.models.load_model(model_dir_path)\n",
    "label_encoder = joblib.load(label_encoder_path)"
   ]
  },
  {
   "cell_type": "code",
   "execution_count": null,
   "id": "f8978f3e",
   "metadata": {},
   "outputs": [],
   "source": [
    "def animal_identifier(region_dir,model):\n",
    "    df=pd.DataFrame(columns=['Image_Name','Region_Name','Species'])\n",
    "    for i in range(0,len(os.listdir(region_dir))):\n",
    "        images=[]\n",
    "        img = cv2.imread(region_dir+'/'+os.listdir(region_dir)[i])\n",
    "        resized_img = cv2.resize(img,(224,224))\n",
    "        resized_img = resized_img / 255.0\n",
    "        images.append(resized_img)\n",
    "        images = np.array(images,dtype = 'float32')\n",
    "        preds = model.predict(images)\n",
    "        preds = np.argmax(preds,axis = 1)\n",
    "        pred_animal=label_encoder_path.inverse_transform([preds[0]])[0]\n",
    "        df.loc[i,'Image_Name']=os.listdir(region_dir)[i]\n",
    "        df.loc[i,'Region_Name']=region_dir.split('\\\\')[-1]\n",
    "        df.loc[i,'Species']=pred_animal\n",
    "    return df"
   ]
  },
  {
   "cell_type": "code",
   "execution_count": null,
   "id": "d2f8987d",
   "metadata": {},
   "outputs": [],
   "source": [
    "finaldf=pd.DataFrame(columns=['Image_Name','Region_Name','Species'])\n",
    "\n",
    "def classify_animals_for_all_regions():\n",
    "    for i in range(0,len(os.listdir(all_regions_dir_path))):\n",
    "        region_dir=all_regions_dir_path+'\\\\'+os.listdir(all_regions_dir_path)[i]\n",
    "        preds=animal_identifier(region_dir,model)\n",
    "        finaldf=finaldf.append(preds,ignore_index=True)\n",
    "        finaldf.to_csv('Region_Wise_Predictions.csv',index=False)"
   ]
  },
  {
   "cell_type": "code",
   "execution_count": null,
   "id": "f55e7d7e",
   "metadata": {},
   "outputs": [],
   "source": [
    "# Run classifier\n",
    "classify_animals_for_all_regions()"
   ]
  }
 ],
 "metadata": {
  "kernelspec": {
   "display_name": "Python 3.10.6 64-bit",
   "language": "python",
   "name": "python3"
  },
  "language_info": {
   "codemirror_mode": {
    "name": "ipython",
    "version": 3
   },
   "file_extension": ".py",
   "mimetype": "text/x-python",
   "name": "python",
   "nbconvert_exporter": "python",
   "pygments_lexer": "ipython3",
   "version": "3.10.6"
  },
  "vscode": {
   "interpreter": {
    "hash": "916dbcbb3f70747c44a77c7bcd40155683ae19c65e1c03b4aa3499c5328201f1"
   }
  }
 },
 "nbformat": 4,
 "nbformat_minor": 5
}
