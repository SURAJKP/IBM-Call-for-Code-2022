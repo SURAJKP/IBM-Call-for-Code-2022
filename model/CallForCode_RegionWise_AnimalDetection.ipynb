{
 "cells": [
  {
   "cell_type": "code",
   "execution_count": null,
   "id": "9bea43e8",
   "metadata": {},
   "outputs": [],
   "source": [
    "!pip install pandas\n",
    "!pip install numpy\n",
    "!pip install opencv-python\n",
    "!pip install sklearn\n",
    "!pip install tensorflow\n",
    "!pip install joblib\n",
    "!pip install os"
   ]
  },
  {
   "cell_type": "code",
   "execution_count": null,
   "id": "eafc7421",
   "metadata": {},
   "outputs": [],
   "source": [
    "\n",
    "import numpy as np # linear algebra\n",
    "import pandas as pd # data processing, CSV file I/O (e.g. pd.read_csv) \n",
    "import matplotlib\n",
    "import matplotlib.pyplot as plt\n",
    "import os\n",
    "import cv2\n",
    "import PIL\n",
    "from sklearn.utils import shuffle\n",
    "from sklearn.metrics import confusion_matrix, classification_report\n",
    "from sklearn import preprocessing\n",
    "from sklearn.model_selection import train_test_split\n",
    "import tensorflow as tf\n",
    "from tensorflow import keras\n",
    "import joblib"
   ]
  },
  {
   "cell_type": "code",
   "execution_count": null,
   "id": "717f5b5b",
   "metadata": {},
   "outputs": [],
   "source": [
    "#inputs to the script\n",
    "\n",
    "#Model Path\n",
    "model_dir=r\"C:\\Users\\DK524UF\\OneDrive - EY\\Documents\\EY Ripples\\Forest Carbon Project\\model\"\n",
    "\n",
    "\n",
    "All_Region_dir=r\"C:\\Users\\DK524UF\\OneDrive - EY\\Documents\\EY Ripples\\Forest Carbon Project\\All_Regions\"\n",
    "\n",
    "\n",
    "LabelEncoderPath=r\"C:\\Users\\DK524UF\\OneDrive - EY\\Documents\\EY Ripples\\Forest Carbon Project\\archive\\animals\\label_encoder.joblib\""
   ]
  },
  {
   "cell_type": "code",
   "execution_count": null,
   "id": "40d82bb5",
   "metadata": {},
   "outputs": [],
   "source": [
    "model= keras.models.load_model(r\"C:\\Users\\DK524UF\\OneDrive - EY\\Documents\\EY Ripples\\Forest Carbon Project\\model\")\n",
    "label_encoder = joblib.load(LabelEncoderPath)"
   ]
  },
  {
   "cell_type": "code",
   "execution_count": null,
   "id": "f8978f3e",
   "metadata": {},
   "outputs": [],
   "source": [
    "def animal_identifier(region_dir,model):\n",
    "    df=pd.DataFrame(columns=['Image_Name','Region_Name','Species'])\n",
    "    for i in range(0,len(os.listdir(region_dir))):\n",
    "        images=[]\n",
    "        img = cv2.imread(region_dir+'/'+os.listdir(region_dir)[i])\n",
    "        resized_img = cv2.resize(img,(224,224))\n",
    "        resized_img = resized_img / 255.0\n",
    "        images.append(resized_img)\n",
    "        images = np.array(images,dtype = 'float32')\n",
    "        preds = model.predict(images)\n",
    "        preds = np.argmax(preds,axis = 1)\n",
    "        pred_animal=label_encoder.inverse_transform([preds[0]])[0]\n",
    "        df.loc[i,'Image_Name']=os.listdir(region_dir)[i]\n",
    "        df.loc[i,'Region_Name']=region_dir.split('\\\\')[-1]\n",
    "        df.loc[i,'Species']=pred_animal\n",
    "    return df"
   ]
  },
  {
   "cell_type": "code",
   "execution_count": null,
   "id": "d2f8987d",
   "metadata": {},
   "outputs": [],
   "source": [
    "finaldf=pd.DataFrame(columns=['Image_Name','Region_Name','Species'])\n",
    "for i in range(0,len(os.listdir(All_Region_dir))):\n",
    "    region_dir=All_Region_dir+'\\\\'+os.listdir(All_Region_dir)[i]\n",
    "    preds=animal_identifier(region_dir,model)\n",
    "    finaldf=finaldf.append(preds,ignore_index=True)\n",
    "    finaldf.to_csv('Region_Wise_Predictions.csv',index=False)"
   ]
  },
  {
   "cell_type": "code",
   "execution_count": null,
   "id": "05e52fef",
   "metadata": {},
   "outputs": [],
   "source": []
  }
 ],
 "metadata": {
  "kernelspec": {
   "display_name": "Python 3 (ipykernel)",
   "language": "python",
   "name": "python3"
  },
  "language_info": {
   "codemirror_mode": {
    "name": "ipython",
    "version": 3
   },
   "file_extension": ".py",
   "mimetype": "text/x-python",
   "name": "python",
   "nbconvert_exporter": "python",
   "pygments_lexer": "ipython3",
   "version": "3.9.7"
  }
 },
 "nbformat": 4,
 "nbformat_minor": 5
}
